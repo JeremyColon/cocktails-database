{
 "cells": [
  {
   "cell_type": "code",
   "execution_count": 1,
   "id": "66bfc7c4",
   "metadata": {
    "ExecuteTime": {
     "end_time": "2023-04-10T16:34:01.749274Z",
     "start_time": "2023-04-10T16:34:01.286790Z"
    }
   },
   "outputs": [],
   "source": [
    "import requests\n",
    "import json\n",
    "import pandas as pd\n",
    "import numpy as np\n",
    "import requests\n",
    "import plotly.graph_objects as go\n",
    "from datetime import datetime as dt\n",
    "from bs4 import BeautifulSoup\n",
    "from math import log, log2, ceil\n",
    "import re\n",
    "import os\n",
    "import sys\n",
    "import os\n",
    "import pickle\n",
    "from sqlalchemy import Table, Column, Integer, String, MetaData, create_engine\n",
    "import sqlite3, psycopg2\n",
    "from unidecode import unidecode"
   ]
  },
  {
   "cell_type": "code",
   "execution_count": 2,
   "id": "77b092cf",
   "metadata": {
    "ExecuteTime": {
     "end_time": "2023-04-10T16:34:01.762023Z",
     "start_time": "2023-04-10T16:34:01.756352Z"
    }
   },
   "outputs": [],
   "source": [
    "def save_object(obj, filename):\n",
    "    with open(filename, 'wb') as outp:\n",
    "        pickle.dump(obj, outp, pickle.HIGHEST_PROTOCOL)\n",
    "    \n",
    "    \n",
    "def load_object(filename):\n",
    "    with open(filename, \"rb\") as file:\n",
    "        return pickle.load(file)\n",
    "    \n",
    "\n",
    "def get_ingredient_list(link, html):\n",
    "    ingredient_list = html.find(\"ul\", attrs={\"class\": \"ingredient-list\"})\n",
    "\n",
    "    ret = list()\n",
    "    if ingredient_list is None:\n",
    "        ingredients = [li for li in html.find(\n",
    "            \"ul\", attrs={\"class\": \"structured-ingredients__list\"}).find_all(\"li\")]\n",
    "        for el in ingredients:\n",
    "            ret.append({\n",
    "                \"name\": el.find(\"p\").find(\"span\", attrs={\"data-ingredient-name\": \"true\"}).text if el.find(\"p\").find(\"span\", attrs={\"data-ingredient-name\": \"true\"}) is not None else None,\n",
    "                \"unit\": el.find(\"p\").find(\"span\", attrs={\"data-ingredient-unit\": \"true\"}).text if el.find(\"p\").find(\"span\", attrs={\"data-ingredient-unit\": \"true\"}) is not None else None,\n",
    "                \"quantity\": el.find(\"p\").find(\"span\", attrs={\"data-ingredient-quantity\": \"true\"}).text if el.find(\"p\").find(\"span\", attrs={\"data-ingredient-quantity\": \"true\"}) is not None else None\n",
    "            })\n",
    "    else:\n",
    "        ingredients = [\n",
    "            re.sub(\"\\n\", \"\", li.text) for li in html.find(\"ul\", attrs={\"class\": \"ingredient-list\"}).find_all(\"li\")\n",
    "        ]\n",
    "        for el in ingredients:\n",
    "            if re.search(\"^garnish\", el, flags=re.IGNORECASE):\n",
    "                quantity = None\n",
    "                unit = \"garnish\"\n",
    "                name = re.sub(\"^Garnish: \", \"\", el).strip()\n",
    "            else:\n",
    "                quantity = re.search(\"^[0-9/ ]+\", el).group(0).strip()\n",
    "                unit = re.sub(quantity, \"\", re.search(\n",
    "                    \"^[0-9/ ]+ [A-Za-z]+ \", el).group(0).strip()).strip()\n",
    "                name = re.sub(f\"{quantity}|{unit}\", \"\", el).strip()\n",
    "            ret.append({\n",
    "                \"name\": name,\n",
    "                \"unit\": unit,\n",
    "                \"quantity\": quantity\n",
    "            })\n",
    "    image = html.find(\n",
    "        \"figure\",\n",
    "        attrs={\"class\": \"comp figure figure--primary-image\"}\n",
    "    ).find(\n",
    "        \"div\",\n",
    "        attrs={\"class\", \"img-placeholder\"}\n",
    "    ).find(\"img\")[\"src\"]\n",
    "\n",
    "    return {\n",
    "        \"recipe_name\": re.sub(\" Cocktail Recipe$\", \"\", html.find(\"title\").text),\n",
    "        \"image\": image,\n",
    "        \"link\": link,\n",
    "        \"ingredients\": ret\n",
    "    }\n",
    "\n",
    "\n",
    "def get_recipe_ingredients(recipe_links, recipes):\n",
    "    for link in recipe_links:\n",
    "        text = requests.get(link).text\n",
    "        html = BeautifulSoup(text, 'html.parser')\n",
    "            \n",
    "        try:\n",
    "            recipe = get_ingredient_list(link, html)\n",
    "            recipes.append(recipe)\n",
    "\n",
    "        except AttributeError as e:\n",
    "            try:\n",
    "                sub_links = [a[\"href\"] for a in html.find_all(\n",
    "                    \"a\", attrs={\"class\": \"mntl-sc-block-heading__link\"})]\n",
    "                get_recipe_ingredients(sub_links, recipes)\n",
    "            except AttributeError as e:\n",
    "                print(f\"{link} - No recipe or sub-links\")\n",
    "\n",
    "    return recipes"
   ]
  },
  {
   "cell_type": "code",
   "execution_count": null,
   "id": "196ffc35",
   "metadata": {
    "ExecuteTime": {
     "end_time": "2023-04-10T16:27:11.224715Z",
     "start_time": "2023-04-10T16:27:11.211218Z"
    }
   },
   "outputs": [],
   "source": [
    "liquor_links = {\n",
    "    \"bourbon\": \"https://www.liquor.com/bourbon-cocktails-4779435\",\n",
    "    \"vodka\": \"https://www.liquor.com/vodka-cocktails-4779437\",\n",
    "    \"rum\": \"https://www.liquor.com/rum-cocktails-4779434\",\n",
    "    \"scotch\": \"https://www.liquor.com/scotch-cocktails-4779431\",\n",
    "    \"rye_whiskey\": \"https://www.liquor.com/rye-whiskey-cocktails-4779433\",\n",
    "    \"other_whiskey\": \"https://www.liquor.com/whiskey-cocktails-4779430\",\n",
    "    \"tequila_mezcal\": \"https://www.liquor.com/tequila-and-mezcal-cocktails-4779429\",\n",
    "    \"cognac_brandy\": \"https://www.liquor.com/brandy-cocktails-4779428\",\n",
    "    \"other\": \"https://www.liquor.com/other-cocktails-4779427\",\n",
    "    \"gins\": \"https://www.liquor.com/gin-cocktails-4779436\"\n",
    "}"
   ]
  },
  {
   "cell_type": "code",
   "execution_count": null,
   "id": "b9a61975",
   "metadata": {
    "ExecuteTime": {
     "end_time": "2023-04-06T18:32:12.739164Z",
     "start_time": "2023-04-06T18:26:54.406597Z"
    },
    "scrolled": true
   },
   "outputs": [],
   "source": [
    "recipes = list()\n",
    "all_recipes = list()\n",
    "for liquor, liquor_link in liquor_links.items():\n",
    "    print(liquor)\n",
    "    text = requests.get(liquor_link).text\n",
    "    html = BeautifulSoup(text, 'html.parser')\n",
    "    recipe_links = [\n",
    "        a[\"href\"] for a in html.find_all(\n",
    "            \"a\", \n",
    "            attrs={\"class\": \"comp mntl-card-list-items mntl-document-card mntl-card card\"}\n",
    "        )\n",
    "    ]\n",
    "    \n",
    "    all_recipes.append({\"liquor\": liquor, \"recipes\": get_recipe_ingredients(recipe_links, recipes)})"
   ]
  },
  {
   "cell_type": "code",
   "execution_count": null,
   "id": "519900e5",
   "metadata": {
    "ExecuteTime": {
     "end_time": "2023-04-05T19:35:05.493474Z",
     "start_time": "2023-04-05T19:35:05.358996Z"
    }
   },
   "outputs": [],
   "source": [
    "master_list = list()\n",
    "for liquor in all_recipes:\n",
    "    for recipe in liquor.get(\"recipes\"):\n",
    "        if recipe not in master_list:\n",
    "            master_list.append(recipe)"
   ]
  },
  {
   "cell_type": "code",
   "execution_count": null,
   "id": "c25337f3",
   "metadata": {
    "ExecuteTime": {
     "end_time": "2023-04-05T19:35:06.557087Z",
     "start_time": "2023-04-05T19:35:06.539162Z"
    }
   },
   "outputs": [],
   "source": [
    "len(master_list)"
   ]
  },
  {
   "cell_type": "code",
   "execution_count": null,
   "id": "3b5135b3",
   "metadata": {
    "ExecuteTime": {
     "end_time": "2023-04-05T19:35:11.492585Z",
     "start_time": "2023-04-05T19:35:10.855387Z"
    }
   },
   "outputs": [],
   "source": [
    "pd.DataFrame(master_list).to_parquet(\"cocktail.parquet\")"
   ]
  },
  {
   "cell_type": "code",
   "execution_count": null,
   "id": "cbe8fa4d",
   "metadata": {
    "ExecuteTime": {
     "end_time": "2023-04-05T19:35:14.938634Z",
     "start_time": "2023-04-05T19:35:14.917129Z"
    }
   },
   "outputs": [],
   "source": [
    "save_object(master_list, \"cocktails.pkl\")"
   ]
  },
  {
   "cell_type": "code",
   "execution_count": null,
   "id": "e4c4df5a",
   "metadata": {
    "ExecuteTime": {
     "end_time": "2023-04-05T19:36:14.010593Z",
     "start_time": "2023-04-05T19:36:13.901698Z"
    }
   },
   "outputs": [],
   "source": [
    "cocktails = load_object(\"cocktails.pkl\")"
   ]
  },
  {
   "cell_type": "code",
   "execution_count": null,
   "id": "1b80ca75",
   "metadata": {
    "ExecuteTime": {
     "end_time": "2023-04-05T19:36:15.016770Z",
     "start_time": "2023-04-05T19:36:15.005781Z"
    }
   },
   "outputs": [],
   "source": [
    "cocktails_df = pd.DataFrame(cocktails)"
   ]
  },
  {
   "cell_type": "code",
   "execution_count": null,
   "id": "ce54682f",
   "metadata": {
    "ExecuteTime": {
     "end_time": "2023-04-05T19:36:15.170369Z",
     "start_time": "2023-04-05T19:36:15.167960Z"
    }
   },
   "outputs": [],
   "source": [
    "cocktails_df = cocktails_df.reset_index().rename(columns={\"index\":\"cocktail_id\"})"
   ]
  },
  {
   "cell_type": "code",
   "execution_count": null,
   "id": "2d148a7c",
   "metadata": {
    "ExecuteTime": {
     "end_time": "2023-04-10T16:27:16.566774Z",
     "start_time": "2023-04-10T16:27:16.539069Z"
    }
   },
   "outputs": [],
   "source": [
    "cocktails_df"
   ]
  },
  {
   "cell_type": "code",
   "execution_count": null,
   "id": "4d5cde68",
   "metadata": {
    "ExecuteTime": {
     "end_time": "2023-04-05T19:36:21.600781Z",
     "start_time": "2023-04-05T19:36:21.582925Z"
    }
   },
   "outputs": [],
   "source": [
    "cocktails_exploded = cocktails_df.explode(\"ingredients\")"
   ]
  },
  {
   "cell_type": "code",
   "execution_count": null,
   "id": "506953c2",
   "metadata": {
    "ExecuteTime": {
     "end_time": "2023-04-05T19:36:22.815796Z",
     "start_time": "2023-04-05T19:36:22.792130Z"
    }
   },
   "outputs": [],
   "source": [
    "cocktails_exploded.reset_index()"
   ]
  },
  {
   "cell_type": "code",
   "execution_count": null,
   "id": "fd941498",
   "metadata": {
    "ExecuteTime": {
     "end_time": "2023-04-05T19:40:21.525528Z",
     "start_time": "2023-04-05T19:40:21.489789Z"
    }
   },
   "outputs": [],
   "source": [
    "cocktails_ingredients = pd.concat(\n",
    "    [cocktails_exploded.reset_index(), pd.json_normalize(cocktails_exploded['ingredients'])], \n",
    "    axis=1\n",
    ").drop([\"index\", \"ingredients\"], axis=1).rename(columns={\"name\": \"ingredient\"})"
   ]
  },
  {
   "cell_type": "code",
   "execution_count": null,
   "id": "46eddc41",
   "metadata": {
    "ExecuteTime": {
     "end_time": "2023-04-10T16:29:46.737289Z",
     "start_time": "2023-04-10T16:29:46.732950Z"
    }
   },
   "outputs": [],
   "source": [
    "list(os.environ.keys())"
   ]
  },
  {
   "cell_type": "code",
   "execution_count": 3,
   "id": "25e87dd5",
   "metadata": {
    "ExecuteTime": {
     "end_time": "2023-04-10T16:34:04.555758Z",
     "start_time": "2023-04-10T16:34:04.548153Z"
    }
   },
   "outputs": [],
   "source": [
    "DB_HOST = os.environ['COCKTAILS_HOST']\n",
    "DB_PW = os.environ[\"COCKTAILS_PWD\"]\n",
    "DB_PORT = os.environ[\"COCKTAILS_PORT\"]\n",
    "DB_USER = os.environ[\"COCKTAILS_USER\"]\n",
    "DB_NAME = os.environ[\"COCKTAILS_DB\"]\n",
    "# DATABASE_URL = \"/Users/jeremycolon/jc_git/cocktails-database/data/db.sqlite\""
   ]
  },
  {
   "cell_type": "code",
   "execution_count": 6,
   "id": "64095a77",
   "metadata": {
    "ExecuteTime": {
     "end_time": "2023-04-10T17:15:55.195824Z",
     "start_time": "2023-04-10T17:15:54.977019Z"
    }
   },
   "outputs": [],
   "source": [
    "try:\n",
    "    # link to your database\n",
    "    conn = psycopg2.connect(\n",
    "        database=DB_NAME,\n",
    "        user=DB_USER,\n",
    "        password=DB_PW,\n",
    "        host=DB_HOST,\n",
    "        port=DB_PORT,\n",
    "        sslmode=\"require\"\n",
    "    )\n",
    "except Exception as e:\n",
    "    print(\"I am unable to connect to the database\", e)"
   ]
  },
  {
   "cell_type": "code",
   "execution_count": 7,
   "id": "e4f1894d",
   "metadata": {
    "ExecuteTime": {
     "end_time": "2023-04-10T17:16:05.451831Z",
     "start_time": "2023-04-10T17:16:05.444245Z"
    }
   },
   "outputs": [],
   "source": [
    "conn.close()"
   ]
  },
  {
   "cell_type": "code",
   "execution_count": null,
   "id": "3c24f4b2",
   "metadata": {
    "ExecuteTime": {
     "end_time": "2023-04-07T18:17:57.481498Z",
     "start_time": "2023-04-07T18:17:57.453312Z"
    }
   },
   "outputs": [],
   "source": [
    "cocktails_ingredients.drop([\"image\",\"link\",\"recipe_name\"], axis=1).to_sql(\n",
    "    \"cocktails_ingredients\", con=conn, if_exists=\"replace\"\n",
    ")"
   ]
  },
  {
   "cell_type": "code",
   "execution_count": null,
   "id": "5b4f804b",
   "metadata": {
    "ExecuteTime": {
     "end_time": "2023-04-07T18:11:45.821210Z",
     "start_time": "2023-04-07T18:11:45.803994Z"
    }
   },
   "outputs": [],
   "source": [
    "cocktails_df.drop([\"ingredients\"], axis=1).to_sql(\n",
    "    \"cocktails\", con=conn, if_exists=\"replace\", index=False\n",
    ")"
   ]
  },
  {
   "cell_type": "code",
   "execution_count": null,
   "id": "c7cc9010",
   "metadata": {
    "ExecuteTime": {
     "end_time": "2023-04-07T18:27:24.249055Z",
     "start_time": "2023-04-07T18:27:24.179605Z"
    }
   },
   "outputs": [],
   "source": [
    "ingredient_map = pd.read_excel(\"../data/ingredient_map.xlsx\", sheet_name=\"Sheet2\")"
   ]
  },
  {
   "cell_type": "code",
   "execution_count": null,
   "id": "4f0eef32",
   "metadata": {
    "ExecuteTime": {
     "end_time": "2023-04-07T18:27:24.550515Z",
     "start_time": "2023-04-07T18:27:24.542626Z"
    }
   },
   "outputs": [],
   "source": [
    "ingredient_map.to_sql(\n",
    "    \"ingredient_map\", con=conn, if_exists=\"replace\", index=False\n",
    ")"
   ]
  },
  {
   "cell_type": "code",
   "execution_count": 5,
   "id": "492ea770",
   "metadata": {
    "ExecuteTime": {
     "end_time": "2023-04-10T16:36:53.251724Z",
     "start_time": "2023-04-10T16:36:53.027479Z"
    }
   },
   "outputs": [
    {
     "ename": "AttributeError",
     "evalue": "'psycopg2.extensions.connection' object has no attribute 'execute'",
     "output_type": "error",
     "traceback": [
      "\u001b[0;31m---------------------------------------------------------------------------\u001b[0m",
      "\u001b[0;31mAttributeError\u001b[0m                            Traceback (most recent call last)",
      "Input \u001b[0;32mIn [5]\u001b[0m, in \u001b[0;36m<cell line: 1>\u001b[0;34m()\u001b[0m\n\u001b[0;32m----> 1\u001b[0m res \u001b[38;5;241m=\u001b[39m conn\u001b[38;5;241m.\u001b[39mexecute(\n\u001b[1;32m      2\u001b[0m         \u001b[38;5;124;03m\"\"\"\u001b[39;00m\n\u001b[1;32m      3\u001b[0m \u001b[38;5;124;03m        SELECT ci.ingredient, count(distinct(c.cocktail_id))\u001b[39;00m\n\u001b[1;32m      4\u001b[0m \u001b[38;5;124;03m        FROM cocktails c\u001b[39;00m\n\u001b[1;32m      5\u001b[0m \u001b[38;5;124;03m        JOIN cocktails_ingredients ci\u001b[39;00m\n\u001b[1;32m      6\u001b[0m \u001b[38;5;124;03m        ON c.cocktail_id = ci.cocktail_id\u001b[39;00m\n\u001b[1;32m      7\u001b[0m \u001b[38;5;124;03m        where ci.ingredient = '1'\u001b[39;00m\n\u001b[1;32m      8\u001b[0m \u001b[38;5;124;03m        group by 1\u001b[39;00m\n\u001b[1;32m      9\u001b[0m \u001b[38;5;124;03m        order by 2 desc\u001b[39;00m\n\u001b[1;32m     10\u001b[0m \u001b[38;5;124;03m        \"\"\"\u001b[39;00m\n\u001b[1;32m     11\u001b[0m     )\u001b[38;5;241m.\u001b[39mfetchall()\n\u001b[1;32m     12\u001b[0m res\n",
      "\u001b[0;31mAttributeError\u001b[0m: 'psycopg2.extensions.connection' object has no attribute 'execute'"
     ]
    }
   ],
   "source": [
    "res = conn.execute(\n",
    "        \"\"\"\n",
    "        SELECT ci.ingredient, count(distinct(c.cocktail_id))\n",
    "        FROM cocktails c\n",
    "        JOIN cocktails_ingredients ci\n",
    "        ON c.cocktail_id = ci.cocktail_id\n",
    "        where ci.ingredient = '1'\n",
    "        group by 1\n",
    "        order by 2 desc\n",
    "        \"\"\"\n",
    "    ).fetchall()\n",
    "res"
   ]
  },
  {
   "cell_type": "code",
   "execution_count": null,
   "id": "dd2eba74",
   "metadata": {
    "ExecuteTime": {
     "end_time": "2023-04-06T18:39:47.846283Z",
     "start_time": "2023-04-06T18:39:47.830355Z"
    }
   },
   "outputs": [],
   "source": [
    "res = conn.execute(\n",
    "        \"\"\"\n",
    "        SELECT ci.ingredient, c.cocktail_id, c.link\n",
    "        FROM cocktails c\n",
    "        JOIN cocktails_ingredients ci\n",
    "        ON c.cocktail_id = ci.cocktail_id\n",
    "        where ci.ingredient = '8 to 10'\n",
    "        \"\"\"\n",
    "    ).fetchall()\n",
    "res"
   ]
  },
  {
   "cell_type": "code",
   "execution_count": null,
   "id": "f247832f",
   "metadata": {
    "ExecuteTime": {
     "end_time": "2022-04-16T21:50:22.252290Z",
     "start_time": "2022-04-16T21:50:22.237985Z"
    }
   },
   "outputs": [],
   "source": [
    "ingredients = set(\n",
    "    [\n",
    "        re.sub(\"[*]|,$\",\"\",unidecode(ig.get(\"name\").lower()).title().strip()) if ig.get(\"name\") is not None else None \n",
    "        for cocktail in cocktails \n",
    "        for ig in cocktail.get(\"ingredients\")\n",
    "    ]\n",
    ")"
   ]
  },
  {
   "cell_type": "code",
   "execution_count": null,
   "id": "4c0abee1",
   "metadata": {
    "ExecuteTime": {
     "end_time": "2022-04-16T21:50:22.381868Z",
     "start_time": "2022-04-16T21:50:22.373717Z"
    }
   },
   "outputs": [],
   "source": [
    "garnishes = set(\n",
    "    [\n",
    "        re.sub(\"[*]|,$\",\"\",unidecode(ig.get(\"name\").lower()).title().strip()) if re.search(\"^Garnish: \", str(ig.get(\"name\")), flags=re.IGNORECASE) or ig.get(\"unit\") == \"garnish\" else None \n",
    "        for cocktail in cocktails \n",
    "        for ig in cocktail.get(\"ingredients\")\n",
    "    ]\n",
    ")"
   ]
  },
  {
   "cell_type": "code",
   "execution_count": null,
   "id": "8de3e1ac",
   "metadata": {
    "ExecuteTime": {
     "end_time": "2022-04-16T21:50:22.538236Z",
     "start_time": "2022-04-16T21:50:22.530807Z"
    }
   },
   "outputs": [],
   "source": [
    "bitters = set(\n",
    "    [\n",
    "        re.sub(\"[*]|,$\",\"\",unidecode(ig.get(\"name\").lower()).title().strip()) if re.search(\"bitter\", str(ig.get(\"name\"))) else None \n",
    "        for cocktail in cocktails \n",
    "        for ig in cocktail.get(\"ingredients\")\n",
    "    ]\n",
    ")"
   ]
  },
  {
   "cell_type": "code",
   "execution_count": null,
   "id": "112b7cbb",
   "metadata": {
    "ExecuteTime": {
     "end_time": "2022-04-16T21:50:22.695250Z",
     "start_time": "2022-04-16T21:50:22.688583Z"
    }
   },
   "outputs": [],
   "source": [
    "syrups = set(\n",
    "    [\n",
    "        re.sub(\"[*]|,$\",\"\",unidecode(ig.get(\"name\").lower()).title().strip()) if re.search(\"syrup\", str(ig.get(\"name\"))) else None \n",
    "        for cocktail in cocktails \n",
    "        for ig in cocktail.get(\"ingredients\")\n",
    "    ]\n",
    ")"
   ]
  },
  {
   "cell_type": "code",
   "execution_count": null,
   "id": "ca506018",
   "metadata": {
    "ExecuteTime": {
     "end_time": "2022-04-16T21:50:22.855154Z",
     "start_time": "2022-04-16T21:50:22.852323Z"
    }
   },
   "outputs": [],
   "source": [
    "ingredients = ingredients - garnishes - bitters - syrups\n",
    "# ingredients = ingredients - bitters\n",
    "# ingredients = ingredients - syrups"
   ]
  },
  {
   "cell_type": "code",
   "execution_count": null,
   "id": "72554a50",
   "metadata": {
    "ExecuteTime": {
     "end_time": "2022-04-16T21:50:26.546427Z",
     "start_time": "2022-04-16T21:50:26.540675Z"
    }
   },
   "outputs": [],
   "source": [
    "[i for i in ingredients if re.search(\"\\\\bgin\\\\b\", i, flags=re.IGNORECASE)]"
   ]
  },
  {
   "cell_type": "code",
   "execution_count": null,
   "id": "6969edfa",
   "metadata": {
    "ExecuteTime": {
     "end_time": "2023-04-07T18:43:01.762240Z",
     "start_time": "2023-04-07T18:43:01.754276Z"
    }
   },
   "outputs": [],
   "source": [
    "pd.set_option(\"display.max_rows\", 100)"
   ]
  },
  {
   "cell_type": "code",
   "execution_count": null,
   "id": "ca2a55a9",
   "metadata": {
    "ExecuteTime": {
     "end_time": "2023-04-07T19:01:09.417379Z",
     "start_time": "2023-04-07T19:01:09.389938Z"
    }
   },
   "outputs": [],
   "source": [
    "alc = \"vodka\"\n",
    "res = conn.execute(\n",
    "        f\"\"\"\n",
    "        with alcohol as (\n",
    "            select distinct cocktail_id\n",
    "            from cocktails_ingredients ci\n",
    "            LEFT JOIN ingredient_map im\n",
    "            ON ci.ingredient = im.ingredient\n",
    "            -- where alcohol_type = '{alc}'\n",
    "        ), ingredients as (\n",
    "            SELECT ci.*, \n",
    "            COALESCE(im.mapped_ingredient, ci.ingredient) as mapped_ingredient, \n",
    "            im.alcohol_type\n",
    "            FROM cocktails_ingredients  ci\n",
    "            LEFT JOIN ingredient_map im\n",
    "            ON ci.ingredient = im.ingredient\n",
    "        )\n",
    "        select i.*\n",
    "        from ingredients i\n",
    "        join alcohol a\n",
    "        on i.cocktail_id = a.cocktail_id\n",
    "        where i.alcohol_type != '{alc}' or i.alcohol_type is null;\n",
    "        \"\"\"\n",
    "    ).fetchall()"
   ]
  },
  {
   "cell_type": "code",
   "execution_count": null,
   "id": "39b26b30",
   "metadata": {
    "ExecuteTime": {
     "end_time": "2023-04-07T19:01:09.699696Z",
     "start_time": "2023-04-07T19:01:09.695964Z"
    }
   },
   "outputs": [],
   "source": [
    "results = pd.DataFrame(\n",
    "    res, \n",
    "    columns=[\"index\", \"cocktail_id\", \"ingredient\", \"unit\", \"quantity\", \"mapped_ingredient\", \"alcohol_type\"]\n",
    ")"
   ]
  },
  {
   "cell_type": "code",
   "execution_count": null,
   "id": "9896fd6d",
   "metadata": {
    "ExecuteTime": {
     "end_time": "2023-04-07T19:01:09.946754Z",
     "start_time": "2023-04-07T19:01:09.941168Z"
    },
    "scrolled": true
   },
   "outputs": [],
   "source": [
    "results"
   ]
  },
  {
   "cell_type": "code",
   "execution_count": null,
   "id": "79ff4bdb",
   "metadata": {
    "ExecuteTime": {
     "end_time": "2023-04-07T19:15:15.064188Z",
     "start_time": "2023-04-07T19:15:15.034240Z"
    },
    "scrolled": true
   },
   "outputs": [],
   "source": [
    "results.groupby(\"mapped_ingredient\").agg({\n",
    "    \"cocktail_id\": \"nunique\",\n",
    "    \"index\": \"count\"\n",
    "}).reset_index().assign(\n",
    "    total=len(results[\"cocktail_id\"].unique()),\n",
    "    perc_of_total=lambda row: row[\"cocktail_id\"]/row[\"total\"]\n",
    ").sort_values(\"cocktail_id\", ascending=False).head(100)"
   ]
  },
  {
   "cell_type": "code",
   "execution_count": null,
   "id": "b1d4ac17",
   "metadata": {},
   "outputs": [],
   "source": []
  }
 ],
 "metadata": {
  "kernelspec": {
   "display_name": "Python 3 (ipykernel)",
   "language": "python",
   "name": "python3"
  },
  "language_info": {
   "codemirror_mode": {
    "name": "ipython",
    "version": 3
   },
   "file_extension": ".py",
   "mimetype": "text/x-python",
   "name": "python",
   "nbconvert_exporter": "python",
   "pygments_lexer": "ipython3",
   "version": "3.10.5"
  },
  "toc": {
   "base_numbering": 1,
   "nav_menu": {},
   "number_sections": true,
   "sideBar": true,
   "skip_h1_title": false,
   "title_cell": "Table of Contents",
   "title_sidebar": "Contents",
   "toc_cell": false,
   "toc_position": {},
   "toc_section_display": true,
   "toc_window_display": false
  },
  "varInspector": {
   "cols": {
    "lenName": 16,
    "lenType": 16,
    "lenVar": 40
   },
   "kernels_config": {
    "python": {
     "delete_cmd_postfix": "",
     "delete_cmd_prefix": "del ",
     "library": "var_list.py",
     "varRefreshCmd": "print(var_dic_list())"
    },
    "r": {
     "delete_cmd_postfix": ") ",
     "delete_cmd_prefix": "rm(",
     "library": "var_list.r",
     "varRefreshCmd": "cat(var_dic_list()) "
    }
   },
   "types_to_exclude": [
    "module",
    "function",
    "builtin_function_or_method",
    "instance",
    "_Feature"
   ],
   "window_display": false
  }
 },
 "nbformat": 4,
 "nbformat_minor": 5
}
